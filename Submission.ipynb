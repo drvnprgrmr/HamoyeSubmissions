{
 "cells": [
  {
   "cell_type": "markdown",
   "id": "59a58f7f",
   "metadata": {},
   "source": [
    "# Stage B Quiz Submission"
   ]
  },
  {
   "cell_type": "markdown",
   "id": "e03d0d04",
   "metadata": {},
   "source": [
    "## Import Statements and file reading"
   ]
  },
  {
   "cell_type": "code",
   "execution_count": 96,
   "id": "688a7c44",
   "metadata": {},
   "outputs": [],
   "source": [
    "# Import all base libraries.\n",
    "import pandas as pd\n",
    "import numpy as np\n",
    "import matplotlib.pyplot as plt\n",
    "import seaborn as sns\n",
    "\n",
    "# Import machine learning tools.\n",
    "from sklearn.preprocessing import MinMaxScaler\n",
    "from sklearn.model_selection import train_test_split\n",
    "from sklearn.linear_model import LinearRegression, Ridge, Lasso\n",
    "from sklearn.metrics import r2_score, mean_absolute_error, mean_squared_error\n",
    "\n",
    "\n",
    "\n",
    "df = pd.read_csv(\"energydata_complete.csv\")"
   ]
  },
  {
   "cell_type": "markdown",
   "id": "380d3350",
   "metadata": {},
   "source": [
    "## Solution to Question 12"
   ]
  },
  {
   "cell_type": "code",
   "execution_count": 97,
   "id": "beca99b1",
   "metadata": {},
   "outputs": [
    {
     "data": {
      "text/plain": [
       "0.65"
      ]
     },
     "execution_count": 97,
     "metadata": {},
     "output_type": "execute_result"
    }
   ],
   "source": [
    "# Obtain the feature and target datasets.\n",
    "x = np.array(df['T2']).reshape(-1, 1)  # We reshape because the dataset only has one feature.\n",
    "y = df['T6']\n",
    "\n",
    "# Split the dataset and train the model.\n",
    "x_train, x_test, y_train, y_test = train_test_split(\n",
    "    x,\n",
    "    y,\n",
    "    test_size=0.3,\n",
    "    random_state=2,\n",
    ") \n",
    "model = LinearRegression()\n",
    "model.fit(x_train, y_train)\n",
    "\n",
    "# Obtain predictions.\n",
    "y_pred = model.predict(x_test)\n",
    "measure = r2_score(y_test, y_pred)\n",
    "\n",
    "round(measure, 2)"
   ]
  },
  {
   "cell_type": "markdown",
   "id": "bc4c3727",
   "metadata": {},
   "source": [
    "## Solution to Question 13"
   ]
  },
  {
   "cell_type": "code",
   "execution_count": 98,
   "id": "d091633d",
   "metadata": {},
   "outputs": [],
   "source": [
    "scaler = MinMaxScaler()\n",
    "\n",
    "new_df = df.drop(columns=['date', 'lights'])\n",
    "\n",
    "normalized_df = pd.DataFrame(scaler.fit_transform(new_df), columns=new_df.columns)\n",
    "\n",
    "# Grab the features and the target dataset.\n",
    "features = normalized_df.drop(columns=['Appliances'])\n",
    "target = normalized_df['Appliances']\n",
    "\n",
    "X_train, X_test, y_train, y_test = train_test_split(features, target, test_size=0.3, random_state=42)\n",
    "\n",
    "# Train the model with the training set.\n",
    "model = LinearRegression()\n",
    "model.fit(X_train, y_train)\n",
    "\n",
    "y_pred = model.predict(X_test);"
   ]
  },
  {
   "cell_type": "code",
   "execution_count": 99,
   "id": "91343b7e",
   "metadata": {},
   "outputs": [
    {
     "data": {
      "text/plain": [
       "0.05"
      ]
     },
     "execution_count": 99,
     "metadata": {},
     "output_type": "execute_result"
    }
   ],
   "source": [
    "# Calculate the mean absolute error to 2dp.\n",
    "mae = mean_absolute_error(y_test, y_pred)\n",
    "round(mae, 2)"
   ]
  },
  {
   "cell_type": "markdown",
   "id": "7b165e5f",
   "metadata": {},
   "source": [
    "## Solution to Question 14"
   ]
  },
  {
   "cell_type": "code",
   "execution_count": 100,
   "id": "0d1b5819",
   "metadata": {},
   "outputs": [
    {
     "data": {
      "text/plain": [
       "45.35"
      ]
     },
     "execution_count": 100,
     "metadata": {},
     "output_type": "execute_result"
    }
   ],
   "source": [
    "# Implement a Residual Sum of Squares function (RSS).\n",
    "def rss_score(y_true, y_pred):\n",
    "    return np.sum((y_true - y_pred)**2)\n",
    "\n",
    "# Calculate the RSS to 2dp\n",
    "rss = rss_score(y_test, y_pred)\n",
    "round(rss, 2)"
   ]
  },
  {
   "cell_type": "markdown",
   "id": "e90b50b3",
   "metadata": {},
   "source": [
    "## Solution to Question 15"
   ]
  },
  {
   "cell_type": "code",
   "execution_count": 101,
   "id": "d18ca67d",
   "metadata": {},
   "outputs": [
    {
     "data": {
      "text/plain": [
       "0.088"
      ]
     },
     "execution_count": 101,
     "metadata": {},
     "output_type": "execute_result"
    }
   ],
   "source": [
    "# Calculate the Root Mean Squared Error (RMSE) to 3dp.\n",
    "mse = mean_squared_error(y_test, y_pred)\n",
    "rmse = np.sqrt(mse)\n",
    "\n",
    "round(rmse, 3)"
   ]
  },
  {
   "cell_type": "markdown",
   "id": "d2a11da9",
   "metadata": {},
   "source": [
    "## Solution to Question 16"
   ]
  },
  {
   "cell_type": "code",
   "execution_count": 102,
   "id": "1257cedd",
   "metadata": {},
   "outputs": [
    {
     "data": {
      "text/plain": [
       "0.15"
      ]
     },
     "execution_count": 102,
     "metadata": {},
     "output_type": "execute_result"
    }
   ],
   "source": [
    "# Calculate the Coefficient of Determination (R Squared) to 2dp.\n",
    "rsquare = r2_score(y_test, y_pred)\n",
    "round(rsquare, 2)"
   ]
  },
  {
   "cell_type": "markdown",
   "id": "63d7ffea",
   "metadata": {},
   "source": [
    "## Solution to Question 17"
   ]
  },
  {
   "cell_type": "code",
   "execution_count": 103,
   "id": "ca8b44d0",
   "metadata": {},
   "outputs": [
    {
     "name": "stdout",
     "output_type": "stream",
     "text": [
      "Lowest weight: RH_2\n",
      "Highest weight: RH_1\n"
     ]
    }
   ],
   "source": [
    "# Extract the weights into a series.\n",
    "weight_series = pd.Series(model.coef_, index=features.columns)\n",
    "weight_series.sort_values(inplace=True)\n",
    "\n",
    "# Get the lowest and highest weights and print them\n",
    "low, high = weight_series.index[0], weight_series.index[-1]\n",
    "print(\"Lowest weight: \" + low)\n",
    "print(\"Highest weight: \" + high)\n"
   ]
  },
  {
   "cell_type": "markdown",
   "id": "f07aa2f4",
   "metadata": {},
   "source": [
    "## Solution to Question 18"
   ]
  },
  {
   "cell_type": "code",
   "execution_count": 104,
   "id": "8e692234",
   "metadata": {},
   "outputs": [
    {
     "name": "stdout",
     "output_type": "stream",
     "text": [
      "No\n"
     ]
    }
   ],
   "source": [
    "# Train the ridge model and obtain predictions.\n",
    "ridge_model = Ridge(alpha=0.4)\n",
    "ridge_model.fit(X_train, y_train)\n",
    "y_pred = ridge_model.predict(X_test)\n",
    "\n",
    "# Calculate and print the RMSE.\n",
    "mse_ridge = mean_squared_error(y_test, y_pred)\n",
    "rmse_ridge = np.sqrt(mse)\n",
    "\n",
    "assert rmse == rmse_ridge, \"Yes\"  # 'Yes' if there is a difference.\n",
    "print(\"No\")  # 'No' if they are the same."
   ]
  },
  {
   "cell_type": "markdown",
   "id": "ad37eecf",
   "metadata": {},
   "source": [
    "## Solution to Question 19"
   ]
  },
  {
   "cell_type": "code",
   "execution_count": 105,
   "id": "e2ae268e",
   "metadata": {},
   "outputs": [
    {
     "data": {
      "text/plain": [
       "4"
      ]
     },
     "execution_count": 105,
     "metadata": {},
     "output_type": "execute_result"
    }
   ],
   "source": [
    "# Train the lasso model and obtain the feature weights.\n",
    "lasso_model = Lasso(alpha=0.001)\n",
    "lasso_model.fit(X_train, y_train)\n",
    "weight_series = pd.Series(lasso_model.coef_, index=features.columns)\n",
    "\n",
    "\n",
    "# Get the number of feature weights that are not 'zero'.\n",
    "len(weight_series[weight_series != 0])"
   ]
  },
  {
   "cell_type": "markdown",
   "id": "a542e538",
   "metadata": {},
   "source": [
    "## Solution to Question 20"
   ]
  },
  {
   "cell_type": "code",
   "execution_count": 106,
   "id": "d1eb66c9",
   "metadata": {},
   "outputs": [
    {
     "data": {
      "text/plain": [
       "0.094"
      ]
     },
     "execution_count": 106,
     "metadata": {},
     "output_type": "execute_result"
    }
   ],
   "source": [
    "# Obtain the predicted values for the lasso model.\n",
    "y_pred = lasso_model.predict(X_test)\n",
    "\n",
    "# Calculate the RMSE value for the lasso model.\n",
    "mse_lasso = mean_squared_error(y_test, y_pred)\n",
    "rmse_lasso = np.sqrt(mse_lasso)\n",
    "\n",
    "round(rmse_lasso, 3)"
   ]
  }
 ],
 "metadata": {
  "kernelspec": {
   "display_name": "Python 3 (ipykernel)",
   "language": "python",
   "name": "python3"
  },
  "language_info": {
   "codemirror_mode": {
    "name": "ipython",
    "version": 3
   },
   "file_extension": ".py",
   "mimetype": "text/x-python",
   "name": "python",
   "nbconvert_exporter": "python",
   "pygments_lexer": "ipython3",
   "version": "3.9.7"
  },
  "varInspector": {
   "cols": {
    "lenName": 16,
    "lenType": 16,
    "lenVar": 40
   },
   "kernels_config": {
    "python": {
     "delete_cmd_postfix": "",
     "delete_cmd_prefix": "del ",
     "library": "var_list.py",
     "varRefreshCmd": "print(var_dic_list())"
    },
    "r": {
     "delete_cmd_postfix": ") ",
     "delete_cmd_prefix": "rm(",
     "library": "var_list.r",
     "varRefreshCmd": "cat(var_dic_list()) "
    }
   },
   "position": {
    "height": "130.844px",
    "left": "929px",
    "right": "20px",
    "top": "120px",
    "width": "331px"
   },
   "types_to_exclude": [
    "module",
    "function",
    "builtin_function_or_method",
    "instance",
    "_Feature"
   ],
   "window_display": false
  }
 },
 "nbformat": 4,
 "nbformat_minor": 5
}
