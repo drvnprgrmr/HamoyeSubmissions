{
 "cells": [
  {
   "cell_type": "markdown",
   "id": "6388f048",
   "metadata": {},
   "source": [
    "**Import all the basic modules required and load the dataset**."
   ]
  },
  {
   "cell_type": "code",
   "execution_count": 1,
   "id": "8e3cb2ba",
   "metadata": {},
   "outputs": [],
   "source": [
    "import pandas as pd\n",
    "import numpy as np\n",
    "\n",
    "df = pd.read_csv('FoodBalanceSheets_E_Africa_NOFLAG.csv', encoding=\"ISO-8859-1\")"
   ]
  },
  {
   "cell_type": "markdown",
   "id": "89288ed7",
   "metadata": {},
   "source": [
    "*Solution to Question 11*"
   ]
  },
  {
   "cell_type": "code",
   "execution_count": 2,
   "id": "a5a2648e",
   "metadata": {},
   "outputs": [
    {
     "data": {
      "text/plain": [
       "Y2014    209460.54\n",
       "Y2017    269617.53\n",
       "Name: Animal fats, dtype: float64"
      ]
     },
     "execution_count": 2,
     "metadata": {},
     "output_type": "execute_result"
    }
   ],
   "source": [
    "# The sum of the data in columns Y2014 and Y2017 grouped by Item\n",
    "grouped = df.groupby('Item')[['Y2014', 'Y2017']].sum()\n",
    "\n",
    "# Access the animal fat data.\n",
    "grouped.loc['Animal fats']"
   ]
  },
  {
   "cell_type": "markdown",
   "id": "0278cc82",
   "metadata": {},
   "source": [
    "*Solution to Question 12*"
   ]
  },
  {
   "cell_type": "code",
   "execution_count": 3,
   "id": "e6bf747c",
   "metadata": {},
   "outputs": [
    {
     "name": "stdout",
     "output_type": "stream",
     "text": [
      "Mean: 135.236 \n",
      "Standard Deviation: 1603.404\n"
     ]
    }
   ],
   "source": [
    "# Load the Y2015 column data.\n",
    "Y2015 = df['Y2015']\n",
    "\n",
    "# Compute the mean and standard deviation.\n",
    "mean = Y2015.mean()\n",
    "stddev = Y2015.std()\n",
    "\n",
    "# Output the results to 3dp.\n",
    "print(f'Mean: {mean :.3f} \\nStandard Deviation: {stddev :.3f}')"
   ]
  },
  {
   "cell_type": "markdown",
   "id": "29443f90",
   "metadata": {},
   "source": [
    "*Solution to Question 13*"
   ]
  },
  {
   "cell_type": "code",
   "execution_count": 4,
   "id": "7df464a9",
   "metadata": {},
   "outputs": [
    {
     "name": "stdout",
     "output_type": "stream",
     "text": [
      "Missing data: 1535\n",
      "Percentage of total: 2.52%\n"
     ]
    }
   ],
   "source": [
    "# Load the Y2016 column data.\n",
    "Y2016 = df['Y2016']\n",
    "\n",
    "total = Y2016.size\n",
    "missing = Y2016.isnull().sum()\n",
    "percent = (missing/total) * 100\n",
    "print(f'Missing data: {missing}\\nPercentage of total: {percent :.2f}%')"
   ]
  },
  {
   "cell_type": "markdown",
   "id": "053b068f",
   "metadata": {},
   "source": [
    "*Solution to Question 14*"
   ]
  },
  {
   "cell_type": "code",
   "execution_count": 5,
   "id": "8ffa3769",
   "metadata": {},
   "outputs": [
    {
     "name": "stdout",
     "output_type": "stream",
     "text": [
      "Y2014\n"
     ]
    }
   ],
   "source": [
    "# Get the correlations with Element Code and sort them.\n",
    "corrs = df.corr()['Element Code'].sort_values(ascending=False)\n",
    "\n",
    "# Find the max correlation.\n",
    "max_corr = corrs[1:].index[0]\n",
    "\n",
    "print(max_corr)"
   ]
  },
  {
   "cell_type": "markdown",
   "id": "869935c4",
   "metadata": {},
   "source": [
    "*Solution to Question 15*"
   ]
  },
  {
   "cell_type": "code",
   "execution_count": 6,
   "id": "6f7a4bab",
   "metadata": {},
   "outputs": [
    {
     "name": "stdout",
     "output_type": "stream",
     "text": [
      "Y2017    294559.09\n",
      "Y2018    287997.09\n",
      "Y2016    286582.78\n",
      "Y2014    274144.48\n",
      "Y2015    267018.46\n",
      "Name: Import Quantity, dtype: float64\n"
     ]
    }
   ],
   "source": [
    "# Get the grouped data.\n",
    "grouped = df.groupby('Element')[['Y2014', 'Y2015', 'Y2016', 'Y2017', 'Y2018']].sum()\n",
    "print(grouped.loc['Import Quantity'].sort_values(ascending=False))"
   ]
  },
  {
   "cell_type": "markdown",
   "id": "c1ca535a",
   "metadata": {},
   "source": [
    "*Solution to Question 16*"
   ]
  },
  {
   "cell_type": "code",
   "execution_count": 7,
   "id": "77b48687",
   "metadata": {},
   "outputs": [
    {
     "data": {
      "text/plain": [
       "1931287.75"
      ]
     },
     "execution_count": 7,
     "metadata": {},
     "output_type": "execute_result"
    }
   ],
   "source": [
    "# Calculate the sum of all groups in 2014.\n",
    "grouped = df.groupby('Element')['Y2014'].sum()\n",
    "\n",
    "# Access the Production sum.\n",
    "grouped['Production']"
   ]
  },
  {
   "cell_type": "markdown",
   "id": "bbcf8e78",
   "metadata": {},
   "source": [
    "*Solution to Question 17*"
   ]
  },
  {
   "cell_type": "code",
   "execution_count": 8,
   "id": "8eceb52f",
   "metadata": {},
   "outputs": [
    {
     "name": "stdout",
     "output_type": "stream",
     "text": [
      "Element: Domestic supply quantity\n",
      "Value: 2161192.1\n"
     ]
    }
   ],
   "source": [
    "# Select columns 'Y2018' and 'Element'\n",
    "new_df = df[['Y2018', 'Element']]\n",
    "\n",
    "# Group by 'Element', sum and find the max value.\n",
    "grouped = new_df.groupby('Element')['Y2018'].sum().sort_values(ascending=False)\n",
    "\n",
    "max_sum = grouped[0]\n",
    "index_of_max = grouped.index[0]\n",
    "\n",
    "# Print the element with the max_sum.\n",
    "print(f'Element: {index_of_max}\\nValue: {max_sum}')"
   ]
  },
  {
   "cell_type": "markdown",
   "id": "f138857a",
   "metadata": {},
   "source": [
    "*Solution to Question 18*"
   ]
  },
  {
   "cell_type": "code",
   "execution_count": 9,
   "id": "72f6c1c5",
   "metadata": {},
   "outputs": [
    {
     "name": "stdout",
     "output_type": "stream",
     "text": [
      "Element: Protein supply quantity (g/capita/day)\n",
      "Value: 11833.56\n"
     ]
    }
   ],
   "source": [
    "# Find the third lowest sum\n",
    "low3 = grouped[-3]\n",
    "low3_index = grouped.index[-3]\n",
    "\n",
    "# Print the element with the sum.\n",
    "print(f'Element: {low3_index}\\nValue: {low3}')"
   ]
  },
  {
   "cell_type": "markdown",
   "id": "10969bc7",
   "metadata": {},
   "source": [
    "*Solution to Question 19*"
   ]
  },
  {
   "cell_type": "code",
   "execution_count": 10,
   "id": "e2624b7d",
   "metadata": {},
   "outputs": [
    {
     "data": {
      "text/plain": [
       "36238.29"
      ]
     },
     "execution_count": 10,
     "metadata": {},
     "output_type": "execute_result"
    }
   ],
   "source": [
    "# Select the required columns.\n",
    "new_df = df[['Element', 'Area', 'Y2018']]\n",
    "\n",
    "# Group by 'Area' and then 'Element'.\n",
    "grouped = new_df.groupby(['Area', 'Element'])['Y2018'].sum()\n",
    "\n",
    "# Access the total sum of Import Quantity in Algeria.\n",
    "grouped[('Algeria', 'Import Quantity')]"
   ]
  },
  {
   "cell_type": "markdown",
   "id": "35ca2648",
   "metadata": {},
   "source": [
    "*Solution to Question 20*"
   ]
  },
  {
   "cell_type": "code",
   "execution_count": 11,
   "id": "3cb46e6c",
   "metadata": {},
   "outputs": [
    {
     "data": {
      "text/plain": [
       "49"
      ]
     },
     "execution_count": 11,
     "metadata": {},
     "output_type": "execute_result"
    }
   ],
   "source": [
    "# Access all the unique countries.\n",
    "unique_countries = df['Area'].unique()\n",
    "\n",
    "# Print the length.\n",
    "len(unique_countries)"
   ]
  }
 ],
 "metadata": {
  "kernelspec": {
   "display_name": "Python 3 (ipykernel)",
   "language": "python",
   "name": "python3"
  },
  "language_info": {
   "codemirror_mode": {
    "name": "ipython",
    "version": 3
   },
   "file_extension": ".py",
   "mimetype": "text/x-python",
   "name": "python",
   "nbconvert_exporter": "python",
   "pygments_lexer": "ipython3",
   "version": "3.9.7"
  }
 },
 "nbformat": 4,
 "nbformat_minor": 5
}
